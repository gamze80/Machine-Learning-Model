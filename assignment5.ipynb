{
 "cells": [
  {
   "cell_type": "code",
   "execution_count": 20,
   "metadata": {
    "id": "tOclu9iqZaI4"
   },
   "outputs": [],
   "source": [
    "import numpy as np\n",
    "import matplotlib.pyplot as plt\n",
    "import pandas as pd\n",
    "import seaborn as sns\n",
    "from sklearn.preprocessing import LabelEncoder,MinMaxScaler,PolynomialFeatures\n",
    "from sklearn.model_selection import train_test_split\n",
    "from sklearn.neighbors import KNeighborsClassifier\n",
    "from sklearn.metrics import confusion_matrix,classification_report,mean_squared_error, r2_score\n",
    "from sklearn.linear_model import LinearRegression\n",
    "import scipy\n",
    "from scipy.stats import spearmanr\n",
    "from scipy import stats"
   ]
  },
  {
   "cell_type": "code",
   "execution_count": 10,
   "metadata": {
    "id": "ibCOAbIiqPv0"
   },
   "outputs": [],
   "source": [
    "#read data with pandas library\n",
    "df =pd.read_excel('dataset.xlsx')"
   ]
  },
  {
   "cell_type": "code",
   "execution_count": 11,
   "metadata": {
    "colab": {
     "base_uri": "https://localhost:8080/",
     "height": 190
    },
    "id": "fx-f55xagAWi",
    "outputId": "52fdc8b0-d7f7-443d-aef4-cafe6e2800ec"
   },
   "outputs": [
    {
     "data": {
      "text/html": [
       "<div>\n",
       "<style scoped>\n",
       "    .dataframe tbody tr th:only-of-type {\n",
       "        vertical-align: middle;\n",
       "    }\n",
       "\n",
       "    .dataframe tbody tr th {\n",
       "        vertical-align: top;\n",
       "    }\n",
       "\n",
       "    .dataframe thead th {\n",
       "        text-align: right;\n",
       "    }\n",
       "</style>\n",
       "<table border=\"1\" class=\"dataframe\">\n",
       "  <thead>\n",
       "    <tr style=\"text-align: right;\">\n",
       "      <th></th>\n",
       "      <th>Name</th>\n",
       "      <th>NOB</th>\n",
       "      <th>V</th>\n",
       "      <th>SH</th>\n",
       "      <th>CS</th>\n",
       "      <th>CDR</th>\n",
       "      <th>TD</th>\n",
       "      <th>NOC</th>\n",
       "      <th>CBO</th>\n",
       "      <th>RFC</th>\n",
       "      <th>LOC</th>\n",
       "      <th>CLOC</th>\n",
       "      <th>FanIn</th>\n",
       "      <th>FanOut</th>\n",
       "      <th>LCOM</th>\n",
       "      <th>WMC</th>\n",
       "      <th>DIT</th>\n",
       "    </tr>\n",
       "  </thead>\n",
       "  <tbody>\n",
       "    <tr>\n",
       "      <th>0</th>\n",
       "      <td>Alarmio-master</td>\n",
       "      <td>22</td>\n",
       "      <td>17</td>\n",
       "      <td>3</td>\n",
       "      <td>169</td>\n",
       "      <td>1.4</td>\n",
       "      <td>1.0</td>\n",
       "      <td>0.364583</td>\n",
       "      <td>2.000000</td>\n",
       "      <td>5.802083</td>\n",
       "      <td>27.260802</td>\n",
       "      <td>3.567901</td>\n",
       "      <td>3.427686</td>\n",
       "      <td>4.367769</td>\n",
       "      <td>21.252630</td>\n",
       "      <td>5.464506</td>\n",
       "      <td>1.968750</td>\n",
       "    </tr>\n",
       "    <tr>\n",
       "      <th>1</th>\n",
       "      <td>AndroidAsyncHTTP-master</td>\n",
       "      <td>11</td>\n",
       "      <td>20</td>\n",
       "      <td>14</td>\n",
       "      <td>494</td>\n",
       "      <td>4.7</td>\n",
       "      <td>6.0</td>\n",
       "      <td>0.474684</td>\n",
       "      <td>2.208861</td>\n",
       "      <td>24.006329</td>\n",
       "      <td>25.996479</td>\n",
       "      <td>10.336268</td>\n",
       "      <td>3.172492</td>\n",
       "      <td>2.727170</td>\n",
       "      <td>17.430380</td>\n",
       "      <td>5.158451</td>\n",
       "      <td>2.177215</td>\n",
       "    </tr>\n",
       "    <tr>\n",
       "      <th>2</th>\n",
       "      <td>android-pdf-viewer-master</td>\n",
       "      <td>2</td>\n",
       "      <td>1</td>\n",
       "      <td>0</td>\n",
       "      <td>4</td>\n",
       "      <td>0.0</td>\n",
       "      <td>12.2</td>\n",
       "      <td>0.000000</td>\n",
       "      <td>0.500000</td>\n",
       "      <td>1.833333</td>\n",
       "      <td>18.280000</td>\n",
       "      <td>4.560000</td>\n",
       "      <td>1.727273</td>\n",
       "      <td>3.454545</td>\n",
       "      <td>9.666667</td>\n",
       "      <td>2.560000</td>\n",
       "      <td>1.666667</td>\n",
       "    </tr>\n",
       "  </tbody>\n",
       "</table>\n",
       "</div>"
      ],
      "text/plain": [
       "                        Name  NOB   V  SH   CS  CDR    TD       NOC       CBO  \\\n",
       "0             Alarmio-master   22  17   3  169  1.4   1.0  0.364583  2.000000   \n",
       "1    AndroidAsyncHTTP-master   11  20  14  494  4.7   6.0  0.474684  2.208861   \n",
       "2  android-pdf-viewer-master    2   1   0    4  0.0  12.2  0.000000  0.500000   \n",
       "\n",
       "         RFC        LOC       CLOC     FanIn    FanOut       LCOM       WMC  \\\n",
       "0   5.802083  27.260802   3.567901  3.427686  4.367769  21.252630  5.464506   \n",
       "1  24.006329  25.996479  10.336268  3.172492  2.727170  17.430380  5.158451   \n",
       "2   1.833333  18.280000   4.560000  1.727273  3.454545   9.666667  2.560000   \n",
       "\n",
       "        DIT  \n",
       "0  1.968750  \n",
       "1  2.177215  \n",
       "2  1.666667  "
      ]
     },
     "execution_count": 11,
     "metadata": {},
     "output_type": "execute_result"
    }
   ],
   "source": [
    " #First 3 samples of the our dataset:\n",
    "df.head(3)"
   ]
  },
  {
   "cell_type": "code",
   "execution_count": 12,
   "metadata": {
    "colab": {
     "base_uri": "https://localhost:8080/",
     "height": 809
    },
    "id": "5S0Fvtn3fqum",
    "outputId": "638c228f-0093-4b35-f2d0-89afcde3ed13"
   },
   "outputs": [
    {
     "data": {
      "image/png": "[encoded data removed]",
      "text/plain": [
       "<Figure size 432x288 with 1 Axes>"
      ]
     },
     "metadata": {
      "needs_background": "light"
     },
     "output_type": "display_data"
    },
    {
     "data": {
      "image/png": "[encoded data removed]",
      "text/plain": [
       "<Figure size 432x288 with 1 Axes>"
      ]
     },
     "metadata": {
      "needs_background": "light"
     },
     "output_type": "display_data"
    },
    {
     "data": {
      "image/png": "[encoded data removed]",
      "text/plain": [
       "<Figure size 432x288 with 1 Axes>"
      ]
     },
     "metadata": {
      "needs_background": "light"
     },
     "output_type": "display_data"
    }
   ],
   "source": [
    "#show the distribution of 3 metrics\n",
    "plt.hist(df.V, color ='blue')\n",
    "plt.title('Distribution of Vulnerablities')\n",
    "plt.ylabel('Frequency')\n",
    "plt.show()\n",
    "plt.hist(df.NOB, color ='r')\n",
    "plt.title('Distribution of Number of Bugs')\n",
    "plt.ylabel('Frequency')\n",
    "plt.show()\n",
    "plt.hist(df.SH, color = 'orange')\n",
    "plt.title('Distribution of Vulnerabilities')\n",
    "plt.ylabel('Frequency')\n",
    "plt.show()\n"
   ]
  },
  {
   "cell_type": "code",
   "execution_count": 13,
   "metadata": {
    "id": "IpoWMRUMa_vi"
   },
   "outputs": [],
   "source": [
    "#Min max scaler for all data\n",
    "labelv= LabelEncoder()\n",
    "label =labelv.fit_transform(df['Name'])\n",
    "Data = df.drop('Name',axis = 'columns')\n",
    "Data['Name'] = label\n",
    "x_Data = Data[['NOB', 'V', 'SH', 'CS', 'CDR', 'TD', 'NOC', 'CBO', 'RFC', 'LOC', 'CLOC',\n",
    "       'FanIn', 'FanOut', 'LCOM', 'WMC', 'DIT']]\n",
    "y_Data =Data['Name']\n",
    "x_Data = x_Data.apply(lambda x: (x-x.min(axis=0))/(x.max(axis=0)- x.min(axis=0)) )"
   ]
  },
  {
   "cell_type": "markdown",
   "metadata": {},
   "source": [
    "# Part1 (Statistical Correlation Analysis)"
   ]
  },
  {
   "cell_type": "code",
   "execution_count": 14,
   "metadata": {
    "colab": {
     "base_uri": "https://localhost:8080/",
     "height": 541
    },
    "id": "MZcGd4uIFkjH",
    "outputId": "492a2b37-d6ec-481f-8751-bff8c383bb9c"
   },
   "outputs": [
    {
     "data": {
      "text/html": [
       "<div>\n",
       "<style scoped>\n",
       "    .dataframe tbody tr th:only-of-type {\n",
       "        vertical-align: middle;\n",
       "    }\n",
       "\n",
       "    .dataframe tbody tr th {\n",
       "        vertical-align: top;\n",
       "    }\n",
       "\n",
       "    .dataframe thead th {\n",
       "        text-align: right;\n",
       "    }\n",
       "</style>\n",
       "<table border=\"1\" class=\"dataframe\">\n",
       "  <thead>\n",
       "    <tr style=\"text-align: right;\">\n",
       "      <th></th>\n",
       "      <th>NOB</th>\n",
       "      <th>V</th>\n",
       "      <th>SH</th>\n",
       "      <th>CS</th>\n",
       "      <th>CDR</th>\n",
       "      <th>TD</th>\n",
       "      <th>NOC</th>\n",
       "      <th>CBO</th>\n",
       "      <th>RFC</th>\n",
       "      <th>LOC</th>\n",
       "      <th>CLOC</th>\n",
       "      <th>FanIn</th>\n",
       "      <th>FanOut</th>\n",
       "      <th>LCOM</th>\n",
       "      <th>WMC</th>\n",
       "      <th>DIT</th>\n",
       "    </tr>\n",
       "  </thead>\n",
       "  <tbody>\n",
       "    <tr>\n",
       "      <th>NOB</th>\n",
       "      <td>1.0000</td>\n",
       "      <td>0.6947</td>\n",
       "      <td>0.5876</td>\n",
       "      <td>0.6913</td>\n",
       "      <td>0.3733</td>\n",
       "      <td>0.1334</td>\n",
       "      <td>0.4079</td>\n",
       "      <td>0.3534</td>\n",
       "      <td>0.4472</td>\n",
       "      <td>0.3499</td>\n",
       "      <td>0.3690</td>\n",
       "      <td>0.4585</td>\n",
       "      <td>0.2771</td>\n",
       "      <td>0.0627</td>\n",
       "      <td>0.5074</td>\n",
       "      <td>0.2460</td>\n",
       "    </tr>\n",
       "    <tr>\n",
       "      <th>V</th>\n",
       "      <td>0.6947</td>\n",
       "      <td>1.0000</td>\n",
       "      <td>0.6297</td>\n",
       "      <td>0.6242</td>\n",
       "      <td>0.2804</td>\n",
       "      <td>0.2968</td>\n",
       "      <td>0.4090</td>\n",
       "      <td>0.4262</td>\n",
       "      <td>0.3460</td>\n",
       "      <td>0.2436</td>\n",
       "      <td>0.2086</td>\n",
       "      <td>0.4686</td>\n",
       "      <td>0.2896</td>\n",
       "      <td>0.0298</td>\n",
       "      <td>0.3978</td>\n",
       "      <td>0.1108</td>\n",
       "    </tr>\n",
       "    <tr>\n",
       "      <th>SH</th>\n",
       "      <td>0.5876</td>\n",
       "      <td>0.6297</td>\n",
       "      <td>1.0000</td>\n",
       "      <td>0.6185</td>\n",
       "      <td>0.3847</td>\n",
       "      <td>-0.0265</td>\n",
       "      <td>0.5129</td>\n",
       "      <td>0.3919</td>\n",
       "      <td>0.4255</td>\n",
       "      <td>0.1292</td>\n",
       "      <td>0.2041</td>\n",
       "      <td>0.2787</td>\n",
       "      <td>0.1561</td>\n",
       "      <td>-0.0161</td>\n",
       "      <td>0.3494</td>\n",
       "      <td>0.1077</td>\n",
       "    </tr>\n",
       "    <tr>\n",
       "      <th>CS</th>\n",
       "      <td>0.6913</td>\n",
       "      <td>0.6242</td>\n",
       "      <td>0.6185</td>\n",
       "      <td>1.0000</td>\n",
       "      <td>0.5481</td>\n",
       "      <td>0.1946</td>\n",
       "      <td>0.4029</td>\n",
       "      <td>0.5774</td>\n",
       "      <td>0.4929</td>\n",
       "      <td>0.4405</td>\n",
       "      <td>0.2606</td>\n",
       "      <td>0.4569</td>\n",
       "      <td>0.3885</td>\n",
       "      <td>0.0655</td>\n",
       "      <td>0.5699</td>\n",
       "      <td>0.2188</td>\n",
       "    </tr>\n",
       "    <tr>\n",
       "      <th>CDR</th>\n",
       "      <td>0.3733</td>\n",
       "      <td>0.2804</td>\n",
       "      <td>0.3847</td>\n",
       "      <td>0.5481</td>\n",
       "      <td>1.0000</td>\n",
       "      <td>0.0134</td>\n",
       "      <td>0.1927</td>\n",
       "      <td>0.2120</td>\n",
       "      <td>0.2410</td>\n",
       "      <td>0.3285</td>\n",
       "      <td>0.1718</td>\n",
       "      <td>0.2437</td>\n",
       "      <td>0.2372</td>\n",
       "      <td>-0.0387</td>\n",
       "      <td>0.3436</td>\n",
       "      <td>0.1233</td>\n",
       "    </tr>\n",
       "    <tr>\n",
       "      <th>TD</th>\n",
       "      <td>0.1334</td>\n",
       "      <td>0.2968</td>\n",
       "      <td>-0.0265</td>\n",
       "      <td>0.1946</td>\n",
       "      <td>0.0134</td>\n",
       "      <td>1.0000</td>\n",
       "      <td>-0.1797</td>\n",
       "      <td>0.0137</td>\n",
       "      <td>-0.1264</td>\n",
       "      <td>-0.0311</td>\n",
       "      <td>0.1143</td>\n",
       "      <td>0.2391</td>\n",
       "      <td>0.2401</td>\n",
       "      <td>0.0172</td>\n",
       "      <td>0.1276</td>\n",
       "      <td>0.3520</td>\n",
       "    </tr>\n",
       "    <tr>\n",
       "      <th>NOC</th>\n",
       "      <td>0.4079</td>\n",
       "      <td>0.4090</td>\n",
       "      <td>0.5129</td>\n",
       "      <td>0.4029</td>\n",
       "      <td>0.1927</td>\n",
       "      <td>-0.1797</td>\n",
       "      <td>1.0000</td>\n",
       "      <td>0.6673</td>\n",
       "      <td>0.5841</td>\n",
       "      <td>-0.1202</td>\n",
       "      <td>0.2973</td>\n",
       "      <td>0.2683</td>\n",
       "      <td>-0.0744</td>\n",
       "      <td>-0.0135</td>\n",
       "      <td>0.1735</td>\n",
       "      <td>-0.1638</td>\n",
       "    </tr>\n",
       "    <tr>\n",
       "      <th>CBO</th>\n",
       "      <td>0.3534</td>\n",
       "      <td>0.4262</td>\n",
       "      <td>0.3919</td>\n",
       "      <td>0.5774</td>\n",
       "      <td>0.2120</td>\n",
       "      <td>0.0137</td>\n",
       "      <td>0.6673</td>\n",
       "      <td>1.0000</td>\n",
       "      <td>0.4212</td>\n",
       "      <td>0.1770</td>\n",
       "      <td>0.2504</td>\n",
       "      <td>0.5946</td>\n",
       "      <td>0.2410</td>\n",
       "      <td>0.1097</td>\n",
       "      <td>0.4926</td>\n",
       "      <td>0.0001</td>\n",
       "    </tr>\n",
       "    <tr>\n",
       "      <th>RFC</th>\n",
       "      <td>0.4472</td>\n",
       "      <td>0.3460</td>\n",
       "      <td>0.4255</td>\n",
       "      <td>0.4929</td>\n",
       "      <td>0.2410</td>\n",
       "      <td>-0.1264</td>\n",
       "      <td>0.5841</td>\n",
       "      <td>0.4212</td>\n",
       "      <td>1.0000</td>\n",
       "      <td>0.1346</td>\n",
       "      <td>0.3816</td>\n",
       "      <td>0.4149</td>\n",
       "      <td>0.0726</td>\n",
       "      <td>0.4441</td>\n",
       "      <td>0.5294</td>\n",
       "      <td>0.2374</td>\n",
       "    </tr>\n",
       "    <tr>\n",
       "      <th>LOC</th>\n",
       "      <td>0.3499</td>\n",
       "      <td>0.2436</td>\n",
       "      <td>0.1292</td>\n",
       "      <td>0.4405</td>\n",
       "      <td>0.3285</td>\n",
       "      <td>-0.0311</td>\n",
       "      <td>-0.1202</td>\n",
       "      <td>0.1770</td>\n",
       "      <td>0.1346</td>\n",
       "      <td>1.0000</td>\n",
       "      <td>0.1267</td>\n",
       "      <td>0.5543</td>\n",
       "      <td>0.6187</td>\n",
       "      <td>-0.0655</td>\n",
       "      <td>0.6782</td>\n",
       "      <td>0.1811</td>\n",
       "    </tr>\n",
       "    <tr>\n",
       "      <th>CLOC</th>\n",
       "      <td>0.3690</td>\n",
       "      <td>0.2086</td>\n",
       "      <td>0.2041</td>\n",
       "      <td>0.2606</td>\n",
       "      <td>0.1718</td>\n",
       "      <td>0.1143</td>\n",
       "      <td>0.2973</td>\n",
       "      <td>0.2504</td>\n",
       "      <td>0.3816</td>\n",
       "      <td>0.1267</td>\n",
       "      <td>1.0000</td>\n",
       "      <td>0.4168</td>\n",
       "      <td>0.1096</td>\n",
       "      <td>0.1076</td>\n",
       "      <td>0.3551</td>\n",
       "      <td>-0.0179</td>\n",
       "    </tr>\n",
       "    <tr>\n",
       "      <th>FanIn</th>\n",
       "      <td>0.4585</td>\n",
       "      <td>0.4686</td>\n",
       "      <td>0.2787</td>\n",
       "      <td>0.4569</td>\n",
       "      <td>0.2437</td>\n",
       "      <td>0.2391</td>\n",
       "      <td>0.2683</td>\n",
       "      <td>0.5946</td>\n",
       "      <td>0.4149</td>\n",
       "      <td>0.5543</td>\n",
       "      <td>0.4168</td>\n",
       "      <td>1.0000</td>\n",
       "      <td>0.6793</td>\n",
       "      <td>0.2964</td>\n",
       "      <td>0.8029</td>\n",
       "      <td>0.1794</td>\n",
       "    </tr>\n",
       "    <tr>\n",
       "      <th>FanOut</th>\n",
       "      <td>0.2771</td>\n",
       "      <td>0.2896</td>\n",
       "      <td>0.1561</td>\n",
       "      <td>0.3885</td>\n",
       "      <td>0.2372</td>\n",
       "      <td>0.2401</td>\n",
       "      <td>-0.0744</td>\n",
       "      <td>0.2410</td>\n",
       "      <td>0.0726</td>\n",
       "      <td>0.6187</td>\n",
       "      <td>0.1096</td>\n",
       "      <td>0.6793</td>\n",
       "      <td>1.0000</td>\n",
       "      <td>0.0770</td>\n",
       "      <td>0.6263</td>\n",
       "      <td>0.2954</td>\n",
       "    </tr>\n",
       "    <tr>\n",
       "      <th>LCOM</th>\n",
       "      <td>0.0627</td>\n",
       "      <td>0.0298</td>\n",
       "      <td>-0.0161</td>\n",
       "      <td>0.0655</td>\n",
       "      <td>-0.0387</td>\n",
       "      <td>0.0172</td>\n",
       "      <td>-0.0135</td>\n",
       "      <td>0.1097</td>\n",
       "      <td>0.4441</td>\n",
       "      <td>-0.0655</td>\n",
       "      <td>0.1076</td>\n",
       "      <td>0.2964</td>\n",
       "      <td>0.0770</td>\n",
       "      <td>1.0000</td>\n",
       "      <td>0.2913</td>\n",
       "      <td>0.2293</td>\n",
       "    </tr>\n",
       "    <tr>\n",
       "      <th>WMC</th>\n",
       "      <td>0.5074</td>\n",
       "      <td>0.3978</td>\n",
       "      <td>0.3494</td>\n",
       "      <td>0.5699</td>\n",
       "      <td>0.3436</td>\n",
       "      <td>0.1276</td>\n",
       "      <td>0.1735</td>\n",
       "      <td>0.4926</td>\n",
       "      <td>0.5294</td>\n",
       "      <td>0.6782</td>\n",
       "      <td>0.3551</td>\n",
       "      <td>0.8029</td>\n",
       "      <td>0.6263</td>\n",
       "      <td>0.2913</td>\n",
       "      <td>1.0000</td>\n",
       "      <td>0.3810</td>\n",
       "    </tr>\n",
       "    <tr>\n",
       "      <th>DIT</th>\n",
       "      <td>0.2460</td>\n",
       "      <td>0.1108</td>\n",
       "      <td>0.1077</td>\n",
       "      <td>0.2188</td>\n",
       "      <td>0.1233</td>\n",
       "      <td>0.3520</td>\n",
       "      <td>-0.1638</td>\n",
       "      <td>0.0001</td>\n",
       "      <td>0.2374</td>\n",
       "      <td>0.1811</td>\n",
       "      <td>-0.0179</td>\n",
       "      <td>0.1794</td>\n",
       "      <td>0.2954</td>\n",
       "      <td>0.2293</td>\n",
       "      <td>0.3810</td>\n",
       "      <td>1.0000</td>\n",
       "    </tr>\n",
       "  </tbody>\n",
       "</table>\n",
       "</div>"
      ],
      "text/plain": [
       "           NOB       V      SH      CS     CDR      TD     NOC     CBO  \\\n",
       "NOB     1.0000  0.6947  0.5876  0.6913  0.3733  0.1334  0.4079  0.3534   \n",
       "V       0.6947  1.0000  0.6297  0.6242  0.2804  0.2968  0.4090  0.4262   \n",
       "SH      0.5876  0.6297  1.0000  0.6185  0.3847 -0.0265  0.5129  0.3919   \n",
       "CS      0.6913  0.6242  0.6185  1.0000  0.5481  0.1946  0.4029  0.5774   \n",
       "CDR     0.3733  0.2804  0.3847  0.5481  1.0000  0.0134  0.1927  0.2120   \n",
       "TD      0.1334  0.2968 -0.0265  0.1946  0.0134  1.0000 -0.1797  0.0137   \n",
       "NOC     0.4079  0.4090  0.5129  0.4029  0.1927 -0.1797  1.0000  0.6673   \n",
       "CBO     0.3534  0.4262  0.3919  0.5774  0.2120  0.0137  0.6673  1.0000   \n",
       "RFC     0.4472  0.3460  0.4255  0.4929  0.2410 -0.1264  0.5841  0.4212   \n",
       "LOC     0.3499  0.2436  0.1292  0.4405  0.3285 -0.0311 -0.1202  0.1770   \n",
       "CLOC    0.3690  0.2086  0.2041  0.2606  0.1718  0.1143  0.2973  0.2504   \n",
       "FanIn   0.4585  0.4686  0.2787  0.4569  0.2437  0.2391  0.2683  0.5946   \n",
       "FanOut  0.2771  0.2896  0.1561  0.3885  0.2372  0.2401 -0.0744  0.2410   \n",
       "LCOM    0.0627  0.0298 -0.0161  0.0655 -0.0387  0.0172 -0.0135  0.1097   \n",
       "WMC     0.5074  0.3978  0.3494  0.5699  0.3436  0.1276  0.1735  0.4926   \n",
       "DIT     0.2460  0.1108  0.1077  0.2188  0.1233  0.3520 -0.1638  0.0001   \n",
       "\n",
       "           RFC     LOC    CLOC   FanIn  FanOut    LCOM     WMC     DIT  \n",
       "NOB     0.4472  0.3499  0.3690  0.4585  0.2771  0.0627  0.5074  0.2460  \n",
       "V       0.3460  0.2436  0.2086  0.4686  0.2896  0.0298  0.3978  0.1108  \n",
       "SH      0.4255  0.1292  0.2041  0.2787  0.1561 -0.0161  0.3494  0.1077  \n",
       "CS      0.4929  0.4405  0.2606  0.4569  0.3885  0.0655  0.5699  0.2188  \n",
       "CDR     0.2410  0.3285  0.1718  0.2437  0.2372 -0.0387  0.3436  0.1233  \n",
       "TD     -0.1264 -0.0311  0.1143  0.2391  0.2401  0.0172  0.1276  0.3520  \n",
       "NOC     0.5841 -0.1202  0.2973  0.2683 -0.0744 -0.0135  0.1735 -0.1638  \n",
       "CBO     0.4212  0.1770  0.2504  0.5946  0.2410  0.1097  0.4926  0.0001  \n",
       "RFC     1.0000  0.1346  0.3816  0.4149  0.0726  0.4441  0.5294  0.2374  \n",
       "LOC     0.1346  1.0000  0.1267  0.5543  0.6187 -0.0655  0.6782  0.1811  \n",
       "CLOC    0.3816  0.1267  1.0000  0.4168  0.1096  0.1076  0.3551 -0.0179  \n",
       "FanIn   0.4149  0.5543  0.4168  1.0000  0.6793  0.2964  0.8029  0.1794  \n",
       "FanOut  0.0726  0.6187  0.1096  0.6793  1.0000  0.0770  0.6263  0.2954  \n",
       "LCOM    0.4441 -0.0655  0.1076  0.2964  0.0770  1.0000  0.2913  0.2293  \n",
       "WMC     0.5294  0.6782  0.3551  0.8029  0.6263  0.2913  1.0000  0.3810  \n",
       "DIT     0.2374  0.1811 -0.0179  0.1794  0.2954  0.2293  0.3810  1.0000  "
      ]
     },
     "execution_count": 14,
     "metadata": {},
     "output_type": "execute_result"
    }
   ],
   "source": [
    "#Show the correlation matrix of all metrics\n",
    "b =x_Data.corr(method='spearman')\n",
    "b.round(4)"
   ]
  },
  {
   "cell_type": "code",
   "execution_count": 21,
   "metadata": {
    "colab": {
     "base_uri": "https://localhost:8080/",
     "height": 538
    },
    "id": "ySKahFCydhRx",
    "outputId": "193f17c8-5d7d-4f8d-e5dc-227b35c534bc"
   },
   "outputs": [
    {
     "data": {
      "text/plain": [
       "array([[0.00000000e+00, 2.18327283e-08, 7.25068293e-06, 2.73686626e-08,\n",
       "        7.59028233e-03, 3.55778386e-01, 3.28147533e-03, 1.18306573e-02,\n",
       "        1.13074215e-03, 1.27474197e-02, 8.35877323e-03, 8.12622838e-04,\n",
       "        5.13886369e-02, 6.65084859e-01, 1.69231351e-04, 8.51073958e-02],\n",
       "       [2.18327283e-08, 0.00000000e+00, 9.64380315e-07, 1.27485409e-06,\n",
       "        4.86054466e-02, 3.63748334e-02, 3.18684954e-03, 2.02677185e-03,\n",
       "        1.38492191e-02, 8.81958549e-02, 1.46024167e-01, 5.99374020e-04,\n",
       "        4.13686431e-02, 8.37422412e-01, 4.22857387e-03, 4.43801192e-01],\n",
       "       [7.25068293e-06, 9.64380315e-07, 0.00000000e+00, 1.69442897e-06,\n",
       "        5.81320990e-03, 8.54805640e-01, 1.39950923e-04, 4.88526780e-03,\n",
       "        2.06656836e-03, 3.71294407e-01, 1.55173054e-01, 4.99897425e-02,\n",
       "        2.78954677e-01, 9.11549686e-01, 1.28887263e-02, 4.56647540e-01],\n",
       "       [2.73686626e-08, 1.27485409e-06, 1.69442897e-06, 0.00000000e+00,\n",
       "        3.78281036e-05, 1.75642587e-01, 3.72437837e-03, 1.13188297e-05,\n",
       "        2.76612558e-04, 1.36899426e-03, 6.75782129e-02, 8.50617165e-04,\n",
       "        5.30209812e-03, 6.51268382e-01, 1.56349307e-05, 1.26863219e-01],\n",
       "       [7.59028233e-03, 4.86054466e-02, 5.81320990e-03, 3.78281036e-05,\n",
       "        0.00000000e+00, 9.26412118e-01, 1.79989468e-01, 1.39392401e-01,\n",
       "        9.18121430e-02, 1.98407446e-02, 2.32953341e-01, 8.80983135e-02,\n",
       "        9.71430618e-02, 7.89690519e-01, 1.45549656e-02, 3.93504840e-01],\n",
       "       [3.55778386e-01, 3.63748334e-02, 8.54805640e-01, 1.75642587e-01,\n",
       "        9.26412118e-01, 0.00000000e+00, 2.11871891e-01, 9.25034617e-01,\n",
       "        3.81878417e-01, 8.30248395e-01, 4.29321372e-01, 9.45008588e-02,\n",
       "        9.30081675e-02, 9.05850076e-01, 3.77059465e-01, 1.21783234e-02],\n",
       "       [3.28147533e-03, 3.18684954e-03, 1.39950923e-04, 3.72437837e-03,\n",
       "        1.79989468e-01, 2.11871891e-01, 0.00000000e+00, 1.20495412e-07,\n",
       "        8.47051948e-06, 4.05848840e-01, 3.59875501e-02, 5.95909393e-02,\n",
       "        6.07845592e-01, 9.25764457e-01, 2.28303160e-01, 2.55723454e-01],\n",
       "       [1.18306573e-02, 2.02677185e-03, 4.88526780e-03, 1.13188297e-05,\n",
       "        1.39392401e-01, 9.25034617e-01, 1.20495412e-07, 0.00000000e+00,\n",
       "        2.31543557e-03, 2.18760326e-01, 7.94422300e-02, 5.28983378e-06,\n",
       "        9.18658289e-02, 4.48253416e-01, 2.78922338e-04, 9.99207552e-01],\n",
       "       [1.13074215e-03, 1.38492191e-02, 2.06656836e-03, 2.76612558e-04,\n",
       "        9.18121430e-02, 3.81878417e-01, 8.47051948e-06, 2.31543557e-03,\n",
       "        0.00000000e+00, 3.51338684e-01, 6.24431197e-03, 2.73800018e-03,\n",
       "        6.16520295e-01, 1.23571518e-03, 7.72507232e-05, 9.69529825e-02],\n",
       "       [1.27474197e-02, 8.81958549e-02, 3.71294407e-01, 1.36899426e-03,\n",
       "        1.98407446e-02, 8.30248395e-01, 4.05848840e-01, 2.18760326e-01,\n",
       "        3.51338684e-01, 0.00000000e+00, 3.80676261e-01, 2.95740041e-05,\n",
       "        1.68046890e-06, 6.51546797e-01, 6.24723641e-08, 2.08240769e-01],\n",
       "       [8.35877323e-03, 1.46024167e-01, 1.55173054e-01, 6.75782129e-02,\n",
       "        2.32953341e-01, 4.29321372e-01, 3.59875501e-02, 7.94422300e-02,\n",
       "        6.24431197e-03, 3.80676261e-01, 0.00000000e+00, 2.60458574e-03,\n",
       "        4.48497215e-01, 4.56938830e-01, 1.13953391e-02, 9.01985864e-01],\n",
       "       [8.12622838e-04, 5.99374020e-04, 4.99897425e-02, 8.50617165e-04,\n",
       "        8.80983135e-02, 9.45008588e-02, 5.95909393e-02, 5.28983378e-06,\n",
       "        2.73800018e-03, 2.95740041e-05, 2.60458574e-03, 0.00000000e+00,\n",
       "        5.84665345e-08, 3.66409515e-02, 2.31760194e-12, 2.12554969e-01],\n",
       "       [5.13886369e-02, 4.13686431e-02, 2.78954677e-01, 5.30209812e-03,\n",
       "        9.71430618e-02, 9.30081675e-02, 6.07845592e-01, 9.18658289e-02,\n",
       "        6.16520295e-01, 1.68046890e-06, 4.48497215e-01, 5.84665345e-08,\n",
       "        0.00000000e+00, 5.95163945e-01, 1.14412953e-06, 3.72868544e-02],\n",
       "       [6.65084859e-01, 8.37422412e-01, 9.11549686e-01, 6.51268382e-01,\n",
       "        7.89690519e-01, 9.05850076e-01, 9.25764457e-01, 4.48253416e-01,\n",
       "        1.23571518e-03, 6.51546797e-01, 4.56938830e-01, 3.66409515e-02,\n",
       "        5.95163945e-01, 0.00000000e+00, 4.01169778e-02, 1.09275922e-01],\n",
       "       [1.69231351e-04, 4.22857387e-03, 1.28887263e-02, 1.56349307e-05,\n",
       "        1.45549656e-02, 3.77059465e-01, 2.28303160e-01, 2.78922338e-04,\n",
       "        7.72507232e-05, 6.24723641e-08, 1.13953391e-02, 2.31760194e-12,\n",
       "        1.14412953e-06, 4.01169778e-02, 0.00000000e+00, 6.33442338e-03],\n",
       "       [8.51073958e-02, 4.43801192e-01, 4.56647540e-01, 1.26863219e-01,\n",
       "        3.93504840e-01, 1.21783234e-02, 2.55723454e-01, 9.99207552e-01,\n",
       "        9.69529825e-02, 2.08240769e-01, 9.01985864e-01, 2.12554969e-01,\n",
       "        3.72868544e-02, 1.09275922e-01, 6.33442338e-03, 0.00000000e+00]])"
      ]
     },
     "execution_count": 21,
     "metadata": {},
     "output_type": "execute_result"
    }
   ],
   "source": [
    "#P values of Spearman Correlation Table\n",
    "b =stats.spearmanr(x_Data)\n",
    "b[1]"
   ]
  },
  {
   "cell_type": "code",
   "execution_count": 16,
   "metadata": {
    "colab": {
     "base_uri": "https://localhost:8080/",
     "height": 596
    },
    "id": "LnY9-Yk9jr7a",
    "outputId": "65732329-6555-49ee-a7a6-68241af7e178"
   },
   "outputs": [
    {
     "data": {
      "image/png": "[encoded data removed]",
      "text/plain": [
       "<Figure size 1440x1440 with 2 Axes>"
      ]
     },
     "metadata": {},
     "output_type": "display_data"
    }
   ],
   "source": [
    "#If you want to see heatmap of the correlation matrix, you can launch code below:\n",
    "import seaborn as sns; sns.set_theme()\n",
    "plt.figure(figsize=(20,20))\n",
    "ax = sns.heatmap(b, annot=True)"
   ]
  },
  {
   "cell_type": "code",
   "execution_count": 17,
   "metadata": {
    "colab": {
     "base_uri": "https://localhost:8080/",
     "height": 227
    },
    "id": "BasbYRGXj0fO",
    "outputId": "bc9d0f03-9e6a-4082-edc7-ba69523b6ec9"
   },
   "outputs": [
    {
     "data": {
      "text/html": [
       "<div>\n",
       "<style scoped>\n",
       "    .dataframe tbody tr th:only-of-type {\n",
       "        vertical-align: middle;\n",
       "    }\n",
       "\n",
       "    .dataframe tbody tr th {\n",
       "        vertical-align: top;\n",
       "    }\n",
       "\n",
       "    .dataframe thead th {\n",
       "        text-align: right;\n",
       "    }\n",
       "</style>\n",
       "<table border=\"1\" class=\"dataframe\">\n",
       "  <thead>\n",
       "    <tr style=\"text-align: right;\">\n",
       "      <th></th>\n",
       "      <th>NOB</th>\n",
       "      <th>V</th>\n",
       "      <th>SH</th>\n",
       "      <th>CS</th>\n",
       "      <th>CDR</th>\n",
       "      <th>TD</th>\n",
       "    </tr>\n",
       "  </thead>\n",
       "  <tbody>\n",
       "    <tr>\n",
       "      <th>NOB</th>\n",
       "      <td>1.000000</td>\n",
       "      <td>0.694733</td>\n",
       "      <td>0.587592</td>\n",
       "      <td>0.691274</td>\n",
       "      <td>0.373251</td>\n",
       "      <td>0.133383</td>\n",
       "    </tr>\n",
       "    <tr>\n",
       "      <th>V</th>\n",
       "      <td>0.694733</td>\n",
       "      <td>1.000000</td>\n",
       "      <td>0.629663</td>\n",
       "      <td>0.624194</td>\n",
       "      <td>0.280358</td>\n",
       "      <td>0.296757</td>\n",
       "    </tr>\n",
       "    <tr>\n",
       "      <th>SH</th>\n",
       "      <td>0.587592</td>\n",
       "      <td>0.629663</td>\n",
       "      <td>1.000000</td>\n",
       "      <td>0.618509</td>\n",
       "      <td>0.384657</td>\n",
       "      <td>-0.026546</td>\n",
       "    </tr>\n",
       "    <tr>\n",
       "      <th>CS</th>\n",
       "      <td>0.691274</td>\n",
       "      <td>0.624194</td>\n",
       "      <td>0.618509</td>\n",
       "      <td>1.000000</td>\n",
       "      <td>0.548113</td>\n",
       "      <td>0.194611</td>\n",
       "    </tr>\n",
       "    <tr>\n",
       "      <th>CDR</th>\n",
       "      <td>0.373251</td>\n",
       "      <td>0.280358</td>\n",
       "      <td>0.384657</td>\n",
       "      <td>0.548113</td>\n",
       "      <td>1.000000</td>\n",
       "      <td>0.013400</td>\n",
       "    </tr>\n",
       "    <tr>\n",
       "      <th>TD</th>\n",
       "      <td>0.133383</td>\n",
       "      <td>0.296757</td>\n",
       "      <td>-0.026546</td>\n",
       "      <td>0.194611</td>\n",
       "      <td>0.013400</td>\n",
       "      <td>1.000000</td>\n",
       "    </tr>\n",
       "  </tbody>\n",
       "</table>\n",
       "</div>"
      ],
      "text/plain": [
       "          NOB         V        SH        CS       CDR        TD\n",
       "NOB  1.000000  0.694733  0.587592  0.691274  0.373251  0.133383\n",
       "V    0.694733  1.000000  0.629663  0.624194  0.280358  0.296757\n",
       "SH   0.587592  0.629663  1.000000  0.618509  0.384657 -0.026546\n",
       "CS   0.691274  0.624194  0.618509  1.000000  0.548113  0.194611\n",
       "CDR  0.373251  0.280358  0.384657  0.548113  1.000000  0.013400\n",
       "TD   0.133383  0.296757 -0.026546  0.194611  0.013400  1.000000"
      ]
     },
     "execution_count": 17,
     "metadata": {},
     "output_type": "execute_result"
    }
   ],
   "source": [
    "#Correlation between External Metrics & TD\n",
    "data = x_Data[['NOB','V','SH','CS','CDR','TD']]\n",
    "correlation = data.corr(method='spearman')\n",
    "correlation"
   ]
  },
  {
   "cell_type": "code",
   "execution_count": 18,
   "metadata": {
    "colab": {
     "base_uri": "https://localhost:8080/",
     "height": 713
    },
    "id": "e2QuIBs8o1x8",
    "outputId": "90fad3ea-8579-4aa4-c556-52538d0ff6eb"
   },
   "outputs": [
    {
     "data": {
      "text/html": [
       "<div>\n",
       "<style scoped>\n",
       "    .dataframe tbody tr th:only-of-type {\n",
       "        vertical-align: middle;\n",
       "    }\n",
       "\n",
       "    .dataframe tbody tr th {\n",
       "        vertical-align: top;\n",
       "    }\n",
       "\n",
       "    .dataframe thead th {\n",
       "        text-align: right;\n",
       "    }\n",
       "</style>\n",
       "<table border=\"1\" class=\"dataframe\">\n",
       "  <thead>\n",
       "    <tr style=\"text-align: right;\">\n",
       "      <th></th>\n",
       "      <th>NOC</th>\n",
       "      <th>CBO</th>\n",
       "      <th>RFC</th>\n",
       "      <th>LOC</th>\n",
       "      <th>CLOC</th>\n",
       "      <th>FanIn</th>\n",
       "      <th>FanOut</th>\n",
       "      <th>LCOM</th>\n",
       "      <th>WMC</th>\n",
       "      <th>DIT</th>\n",
       "      <th>CDR</th>\n",
       "      <th>TD</th>\n",
       "    </tr>\n",
       "  </thead>\n",
       "  <tbody>\n",
       "    <tr>\n",
       "      <th>NOC</th>\n",
       "      <td>1.0000</td>\n",
       "      <td>0.6673</td>\n",
       "      <td>0.5841</td>\n",
       "      <td>-0.1202</td>\n",
       "      <td>0.2973</td>\n",
       "      <td>0.2683</td>\n",
       "      <td>-0.0744</td>\n",
       "      <td>-0.0135</td>\n",
       "      <td>0.1735</td>\n",
       "      <td>-0.1638</td>\n",
       "      <td>0.1927</td>\n",
       "      <td>-0.1797</td>\n",
       "    </tr>\n",
       "    <tr>\n",
       "      <th>CBO</th>\n",
       "      <td>0.6673</td>\n",
       "      <td>1.0000</td>\n",
       "      <td>0.4212</td>\n",
       "      <td>0.1770</td>\n",
       "      <td>0.2504</td>\n",
       "      <td>0.5946</td>\n",
       "      <td>0.2410</td>\n",
       "      <td>0.1097</td>\n",
       "      <td>0.4926</td>\n",
       "      <td>0.0001</td>\n",
       "      <td>0.2120</td>\n",
       "      <td>0.0137</td>\n",
       "    </tr>\n",
       "    <tr>\n",
       "      <th>RFC</th>\n",
       "      <td>0.5841</td>\n",
       "      <td>0.4212</td>\n",
       "      <td>1.0000</td>\n",
       "      <td>0.1346</td>\n",
       "      <td>0.3816</td>\n",
       "      <td>0.4149</td>\n",
       "      <td>0.0726</td>\n",
       "      <td>0.4441</td>\n",
       "      <td>0.5294</td>\n",
       "      <td>0.2374</td>\n",
       "      <td>0.2410</td>\n",
       "      <td>-0.1264</td>\n",
       "    </tr>\n",
       "    <tr>\n",
       "      <th>LOC</th>\n",
       "      <td>-0.1202</td>\n",
       "      <td>0.1770</td>\n",
       "      <td>0.1346</td>\n",
       "      <td>1.0000</td>\n",
       "      <td>0.1267</td>\n",
       "      <td>0.5543</td>\n",
       "      <td>0.6187</td>\n",
       "      <td>-0.0655</td>\n",
       "      <td>0.6782</td>\n",
       "      <td>0.1811</td>\n",
       "      <td>0.3285</td>\n",
       "      <td>-0.0311</td>\n",
       "    </tr>\n",
       "    <tr>\n",
       "      <th>CLOC</th>\n",
       "      <td>0.2973</td>\n",
       "      <td>0.2504</td>\n",
       "      <td>0.3816</td>\n",
       "      <td>0.1267</td>\n",
       "      <td>1.0000</td>\n",
       "      <td>0.4168</td>\n",
       "      <td>0.1096</td>\n",
       "      <td>0.1076</td>\n",
       "      <td>0.3551</td>\n",
       "      <td>-0.0179</td>\n",
       "      <td>0.1718</td>\n",
       "      <td>0.1143</td>\n",
       "    </tr>\n",
       "    <tr>\n",
       "      <th>FanIn</th>\n",
       "      <td>0.2683</td>\n",
       "      <td>0.5946</td>\n",
       "      <td>0.4149</td>\n",
       "      <td>0.5543</td>\n",
       "      <td>0.4168</td>\n",
       "      <td>1.0000</td>\n",
       "      <td>0.6793</td>\n",
       "      <td>0.2964</td>\n",
       "      <td>0.8029</td>\n",
       "      <td>0.1794</td>\n",
       "      <td>0.2437</td>\n",
       "      <td>0.2391</td>\n",
       "    </tr>\n",
       "    <tr>\n",
       "      <th>FanOut</th>\n",
       "      <td>-0.0744</td>\n",
       "      <td>0.2410</td>\n",
       "      <td>0.0726</td>\n",
       "      <td>0.6187</td>\n",
       "      <td>0.1096</td>\n",
       "      <td>0.6793</td>\n",
       "      <td>1.0000</td>\n",
       "      <td>0.0770</td>\n",
       "      <td>0.6263</td>\n",
       "      <td>0.2954</td>\n",
       "      <td>0.2372</td>\n",
       "      <td>0.2401</td>\n",
       "    </tr>\n",
       "    <tr>\n",
       "      <th>LCOM</th>\n",
       "      <td>-0.0135</td>\n",
       "      <td>0.1097</td>\n",
       "      <td>0.4441</td>\n",
       "      <td>-0.0655</td>\n",
       "      <td>0.1076</td>\n",
       "      <td>0.2964</td>\n",
       "      <td>0.0770</td>\n",
       "      <td>1.0000</td>\n",
       "      <td>0.2913</td>\n",
       "      <td>0.2293</td>\n",
       "      <td>-0.0387</td>\n",
       "      <td>0.0172</td>\n",
       "    </tr>\n",
       "    <tr>\n",
       "      <th>WMC</th>\n",
       "      <td>0.1735</td>\n",
       "      <td>0.4926</td>\n",
       "      <td>0.5294</td>\n",
       "      <td>0.6782</td>\n",
       "      <td>0.3551</td>\n",
       "      <td>0.8029</td>\n",
       "      <td>0.6263</td>\n",
       "      <td>0.2913</td>\n",
       "      <td>1.0000</td>\n",
       "      <td>0.3810</td>\n",
       "      <td>0.3436</td>\n",
       "      <td>0.1276</td>\n",
       "    </tr>\n",
       "    <tr>\n",
       "      <th>DIT</th>\n",
       "      <td>-0.1638</td>\n",
       "      <td>0.0001</td>\n",
       "      <td>0.2374</td>\n",
       "      <td>0.1811</td>\n",
       "      <td>-0.0179</td>\n",
       "      <td>0.1794</td>\n",
       "      <td>0.2954</td>\n",
       "      <td>0.2293</td>\n",
       "      <td>0.3810</td>\n",
       "      <td>1.0000</td>\n",
       "      <td>0.1233</td>\n",
       "      <td>0.3520</td>\n",
       "    </tr>\n",
       "    <tr>\n",
       "      <th>CDR</th>\n",
       "      <td>0.1927</td>\n",
       "      <td>0.2120</td>\n",
       "      <td>0.2410</td>\n",
       "      <td>0.3285</td>\n",
       "      <td>0.1718</td>\n",
       "      <td>0.2437</td>\n",
       "      <td>0.2372</td>\n",
       "      <td>-0.0387</td>\n",
       "      <td>0.3436</td>\n",
       "      <td>0.1233</td>\n",
       "      <td>1.0000</td>\n",
       "      <td>0.0134</td>\n",
       "    </tr>\n",
       "    <tr>\n",
       "      <th>TD</th>\n",
       "      <td>-0.1797</td>\n",
       "      <td>0.0137</td>\n",
       "      <td>-0.1264</td>\n",
       "      <td>-0.0311</td>\n",
       "      <td>0.1143</td>\n",
       "      <td>0.2391</td>\n",
       "      <td>0.2401</td>\n",
       "      <td>0.0172</td>\n",
       "      <td>0.1276</td>\n",
       "      <td>0.3520</td>\n",
       "      <td>0.0134</td>\n",
       "      <td>1.0000</td>\n",
       "    </tr>\n",
       "  </tbody>\n",
       "</table>\n",
       "</div>"
      ],
      "text/plain": [
       "           NOC     CBO     RFC     LOC    CLOC   FanIn  FanOut    LCOM  \\\n",
       "NOC     1.0000  0.6673  0.5841 -0.1202  0.2973  0.2683 -0.0744 -0.0135   \n",
       "CBO     0.6673  1.0000  0.4212  0.1770  0.2504  0.5946  0.2410  0.1097   \n",
       "RFC     0.5841  0.4212  1.0000  0.1346  0.3816  0.4149  0.0726  0.4441   \n",
       "LOC    -0.1202  0.1770  0.1346  1.0000  0.1267  0.5543  0.6187 -0.0655   \n",
       "CLOC    0.2973  0.2504  0.3816  0.1267  1.0000  0.4168  0.1096  0.1076   \n",
       "FanIn   0.2683  0.5946  0.4149  0.5543  0.4168  1.0000  0.6793  0.2964   \n",
       "FanOut -0.0744  0.2410  0.0726  0.6187  0.1096  0.6793  1.0000  0.0770   \n",
       "LCOM   -0.0135  0.1097  0.4441 -0.0655  0.1076  0.2964  0.0770  1.0000   \n",
       "WMC     0.1735  0.4926  0.5294  0.6782  0.3551  0.8029  0.6263  0.2913   \n",
       "DIT    -0.1638  0.0001  0.2374  0.1811 -0.0179  0.1794  0.2954  0.2293   \n",
       "CDR     0.1927  0.2120  0.2410  0.3285  0.1718  0.2437  0.2372 -0.0387   \n",
       "TD     -0.1797  0.0137 -0.1264 -0.0311  0.1143  0.2391  0.2401  0.0172   \n",
       "\n",
       "           WMC     DIT     CDR      TD  \n",
       "NOC     0.1735 -0.1638  0.1927 -0.1797  \n",
       "CBO     0.4926  0.0001  0.2120  0.0137  \n",
       "RFC     0.5294  0.2374  0.2410 -0.1264  \n",
       "LOC     0.6782  0.1811  0.3285 -0.0311  \n",
       "CLOC    0.3551 -0.0179  0.1718  0.1143  \n",
       "FanIn   0.8029  0.1794  0.2437  0.2391  \n",
       "FanOut  0.6263  0.2954  0.2372  0.2401  \n",
       "LCOM    0.2913  0.2293 -0.0387  0.0172  \n",
       "WMC     1.0000  0.3810  0.3436  0.1276  \n",
       "DIT     0.3810  1.0000  0.1233  0.3520  \n",
       "CDR     0.3436  0.1233  1.0000  0.0134  \n",
       "TD      0.1276  0.3520  0.0134  1.0000  "
      ]
     },
     "execution_count": 18,
     "metadata": {},
     "output_type": "execute_result"
    }
   ],
   "source": [
    "#Correlation between Internal Metrics & TD\n",
    "data = x_Data[['NOC', 'CBO','RFC','LOC','CLOC','FanIn','FanOut','LCOM','WMC','DIT','CDR','TD']]\n",
    "correlation = data.corr(method='spearman')\n",
    "correlation.round(4)"
   ]
  },
  {
   "cell_type": "markdown",
   "metadata": {
    "id": "1eDgeyyDspha"
   },
   "source": [
    "# Part2 (ML Modelling)\n"
   ]
  },
  {
   "cell_type": "markdown",
   "metadata": {
    "id": "CTKM7k5dyw5k"
   },
   "source": [
    "\n",
    "We are going to use 5 different ML Regression Models to predict Technical Debt values:\n",
    "\n",
    ">Linear Regression\n",
    "\n",
    ">Support Vector Regression\n",
    "\n",
    ">Decision Tree Regression\n",
    "\n",
    ">Random Forest Tree Regression\n",
    "\n",
    ">Multi-layer Perceptron\n",
    "\n",
    "70% of our data will be used as training set and 30% as test set. Training and test sets will be randomly. The “random_state” variable will have a fixed value so that all models get the same random data. In this way, we will be able to evaluate the success rate of the different models objectively.\n"
   ]
  },
  {
   "cell_type": "code",
   "execution_count": null,
   "metadata": {
    "id": "Fsc013bjERRa"
   },
   "outputs": [],
   "source": [
    "from sklearn.linear_model import LinearRegression\n",
    "from sklearn.metrics import mean_squared_error, mean_absolute_error\n",
    "from sklearn.svm import SVR\n",
    "from sklearn.tree import DecisionTreeRegressor\n",
    "from sklearn.ensemble import RandomForestRegressor\n",
    "from sklearn.neural_network import MLPRegressor\n",
    "from sklearn.neighbors import NearestCentroid\n",
    "\n",
    "random_state_fixed=53\n",
    "\n",
    "#This function plots graphs to improve visual confirmation\n",
    "def plotGraph(y_test,y_pred,regressorName):\n",
    "  #Plot the Scatter Graph to see results better\n",
    "\n",
    "\n",
    "\n",
    "#Linear Regressor is one of the best choice for the data that is correlated linearly:\n",
    "\n",
    " def linearRegression(X_train,y_train,X_test,y_test):\n",
    "  # Create the regressor: reg_all\n",
    "\n",
    "\n",
    "\n",
    "#SVR is also one of the most common regressor that used for regression predictions\n",
    " def svrRegression(X_train,y_train,X_test,y_test):\n",
    "  \n",
    "\n",
    "\n",
    "\n",
    " def decisionTreeRegression(X_train,y_train,X_test,y_test):\n",
    "  \n",
    "\n",
    "\n",
    "\n",
    " def randomDecTreeRegression(X_train,y_train,X_test,y_test):\n",
    "  \n",
    "\n",
    "\n",
    "\n",
    "#Multi-layer Perceptron regressor: 'This model optimizes the squared-loss using LBFGS or stochastic gradient descent.'\n",
    " def mlpRegressor(X_train,y_train,X_test,y_test):\n",
    "\n"
   ]
  },
  {
   "cell_type": "markdown",
   "metadata": {},
   "source": [
    "In this step (step 3), we will try to estimate Technical Debt using internal metrics."
   ]
  },
  {
   "cell_type": "code",
   "execution_count": 18,
   "metadata": {
    "id": "Y5dIRQyL3-rM"
   },
   "outputs": [],
   "source": [
    "#split data into train and test data"
   ]
  },
  {
   "cell_type": "code",
   "execution_count": 1,
   "metadata": {
    "colab": {
     "base_uri": "https://localhost:8080/",
     "height": 314
    },
    "id": "ikhp_b2m3-pQ",
    "outputId": "03ccda88-b71d-4938-cc09-5fb9e590d7e1"
   },
   "outputs": [],
   "source": [
    "#Model for Linear Regression (show also R-Squared Value and Root Mean Squared Error )"
   ]
  },
  {
   "cell_type": "code",
   "execution_count": 2,
   "metadata": {
    "colab": {
     "base_uri": "https://localhost:8080/",
     "height": 612
    },
    "id": "oioKCTWg3-li",
    "outputId": "1fada3f9-e290-4059-9b95-91ff4c42d4e8"
   },
   "outputs": [],
   "source": [
    "#Model for SVR Regression (show also R-Squared Value and Root Mean Squared Error )"
   ]
  },
  {
   "cell_type": "code",
   "execution_count": 3,
   "metadata": {
    "colab": {
     "base_uri": "https://localhost:8080/",
     "height": 314
    },
    "id": "uRbMn_Pg3-jd",
    "outputId": "00ad9307-faf9-4ac5-b2fc-655da16f876e"
   },
   "outputs": [],
   "source": [
    "#Model for Decision Tree Regression (show also R-Squared Value and Root Mean Squared Error )"
   ]
  },
  {
   "cell_type": "code",
   "execution_count": 4,
   "metadata": {
    "colab": {
     "base_uri": "https://localhost:8080/",
     "height": 314
    },
    "id": "QVghCZXp3-hy",
    "outputId": "76a0663b-f22e-48ce-e566-1f230d1b71a3"
   },
   "outputs": [],
   "source": [
    "#Model for Random Decision Tree Regression (show also R-Squared Value and Root Mean Squared Error )"
   ]
  },
  {
   "cell_type": "code",
   "execution_count": 5,
   "metadata": {
    "colab": {
     "base_uri": "https://localhost:8080/",
     "height": 314
    },
    "id": "R_n5bX1h3-gM",
    "outputId": "3170db1e-2a55-41e7-cf9c-53ab8069cc8a"
   },
   "outputs": [],
   "source": [
    "#Model for Multi-layer Perceptron Regressor (show also R-Squared Value and Root Mean Squared Error )"
   ]
  },
  {
   "cell_type": "markdown",
   "metadata": {},
   "source": [
    "In this step (step 4), we will try to estimate Technical Debt using external metrics."
   ]
  },
  {
   "cell_type": "code",
   "execution_count": 24,
   "metadata": {
    "id": "OWynoUpl_LpD"
   },
   "outputs": [],
   "source": [
    "#split data into train and test data"
   ]
  },
  {
   "cell_type": "code",
   "execution_count": 6,
   "metadata": {
    "colab": {
     "base_uri": "https://localhost:8080/",
     "height": 314
    },
    "id": "4y3fnnz0_Lmw",
    "outputId": "4f890e21-c377-47b4-847b-538b07b40b5f"
   },
   "outputs": [],
   "source": [
    "#Model for Linear Regression (show also R-Squared Value and Root Mean Squared Error )"
   ]
  },
  {
   "cell_type": "code",
   "execution_count": 7,
   "metadata": {
    "colab": {
     "base_uri": "https://localhost:8080/",
     "height": 612
    },
    "id": "dD-1O7IP_Lkq",
    "outputId": "05766b19-d36c-4fbc-abb8-69571587b5bb"
   },
   "outputs": [],
   "source": [
    "#Model for SVR (show also R-Squared Value and Root Mean Squared Error )"
   ]
  },
  {
   "cell_type": "code",
   "execution_count": 8,
   "metadata": {
    "colab": {
     "base_uri": "https://localhost:8080/",
     "height": 314
    },
    "id": "gyNreFSJ_LiM",
    "outputId": "899e2934-6096-4ea6-e86e-24944d368c11"
   },
   "outputs": [],
   "source": [
    "#Model for Decision Tree Regression (show also R-Squared Value and Root Mean Squared Error )"
   ]
  },
  {
   "cell_type": "code",
   "execution_count": 9,
   "metadata": {
    "colab": {
     "base_uri": "https://localhost:8080/",
     "height": 314
    },
    "id": "CXdCCVF9_Lgj",
    "outputId": "17b31f51-6f07-4317-a9cf-fbdd4db3f6d5"
   },
   "outputs": [],
   "source": [
    "#Model for Random Decision Tree Regression (show also R-Squared Value and Root Mean Squared Error )"
   ]
  },
  {
   "cell_type": "code",
   "execution_count": 10,
   "metadata": {
    "colab": {
     "base_uri": "https://localhost:8080/",
     "height": 314
    },
    "id": "_JCoFHOq_Lei",
    "outputId": "dc245052-598f-409d-a07e-f4d41c2ed716"
   },
   "outputs": [],
   "source": [
    "#Model for Multi-layer Perceptron Regressor (show also R-Squared Value and Root Mean Squared Error )"
   ]
  },
  {
   "cell_type": "markdown",
   "metadata": {
    "id": "VFtnLsHJqAWM"
   },
   "source": [
    "In this step 5, we will try to estimate Technical Debt using all internal and external metrics."
   ]
  },
  {
   "cell_type": "code",
   "execution_count": 30,
   "metadata": {
    "id": "t0YbWzOCph0O"
   },
   "outputs": [],
   "source": [
    "#split data into train and test data"
   ]
  },
  {
   "cell_type": "code",
   "execution_count": 11,
   "metadata": {
    "colab": {
     "base_uri": "https://localhost:8080/",
     "height": 314
    },
    "id": "qUE_tN3-phLA",
    "outputId": "fd827f1c-f22b-4480-fd06-bc5efbd2e990"
   },
   "outputs": [],
   "source": [
    "#Model for Linear Regression (show also R-Squared Value and Root Mean Squared Error )"
   ]
  },
  {
   "cell_type": "code",
   "execution_count": 12,
   "metadata": {
    "colab": {
     "base_uri": "https://localhost:8080/",
     "height": 612
    },
    "id": "8DMCiKR4_LZA",
    "outputId": "6d818504-11b1-4b52-b6ec-56b2f991b383"
   },
   "outputs": [],
   "source": [
    "#Model for SVR (show also R-Squared Value and Root Mean Squared Error )"
   ]
  },
  {
   "cell_type": "code",
   "execution_count": 13,
   "metadata": {
    "colab": {
     "base_uri": "https://localhost:8080/",
     "height": 314
    },
    "id": "rg9MEDse_8Eq",
    "outputId": "99f2ad4a-4b9d-4d27-8c9e-810ae390cbe2"
   },
   "outputs": [],
   "source": [
    "#Model for Decision Tree Regression (show also R-Squared Value and Root Mean Squared Error )"
   ]
  },
  {
   "cell_type": "code",
   "execution_count": 14,
   "metadata": {
    "colab": {
     "base_uri": "https://localhost:8080/",
     "height": 314
    },
    "id": "PiZM7ufN_8CQ",
    "outputId": "a10b57d8-6a38-4022-f99c-c264035cd666"
   },
   "outputs": [],
   "source": [
    "#Model for Random Decision Tree Regression (show also R-Squared Value and Root Mean Squared Error )"
   ]
  },
  {
   "cell_type": "code",
   "execution_count": 15,
   "metadata": {
    "colab": {
     "base_uri": "https://localhost:8080/",
     "height": 314
    },
    "id": "24vR1rXgq7Wt",
    "outputId": "29c0eb6d-b055-409d-9447-b54a7e8b9904"
   },
   "outputs": [],
   "source": [
    "#Model for Multi-layer Perceptron Regressor (show also R-Squared Value and Root Mean Squared Error )"
   ]
  }
 ],
 "metadata": {
  "colab": {
   "collapsed_sections": [],
   "name": "notebook1_TD_düzenlendi.ipynb",
   "provenance": [],
   "toc_visible": true
  },
  "kernelspec": {
   "display_name": "Python 3",
   "language": "python",
   "name": "python3"
  },
  "language_info": {
   "codemirror_mode": {
    "name": "ipython",
    "version": 3
   },
   "file_extension": ".py",
   "mimetype": "text/x-python",
   "name": "python",
   "nbconvert_exporter": "python",
   "pygments_lexer": "ipython3",
   "version": "3.8.5"
  }
 },
 "nbformat": 4,
 "nbformat_minor": 4
}
